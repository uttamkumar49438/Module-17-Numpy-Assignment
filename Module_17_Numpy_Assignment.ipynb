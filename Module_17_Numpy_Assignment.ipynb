{
  "nbformat": 4,
  "nbformat_minor": 0,
  "metadata": {
    "colab": {
      "provenance": []
    },
    "kernelspec": {
      "name": "python3",
      "display_name": "Python 3"
    },
    "language_info": {
      "name": "python"
    }
  },
  "cells": [
    {
      "cell_type": "markdown",
      "source": [
        "import numpy as np\n",
        "list_ = [ ‘1’ , ’2’ , ‘3’ , ‘4’ , ‘5’ ]\n",
        "array_list = np.array(object = list_)"
      ],
      "metadata": {
        "id": "WvNaNqH7E_xJ"
      }
    },
    {
      "cell_type": "markdown",
      "source": [
        "Q1. Is there any difference in the data type of variables list_ and array_list? If there is then write a code\n",
        "to print the data types of both the variables."
      ],
      "metadata": {
        "id": "caQfbwMuFNN1"
      }
    },
    {
      "cell_type": "code",
      "source": [
        "import numpy as np\n",
        "\n",
        "# Original list\n",
        "list_ = ['1', '2', '3', '4', '5']\n",
        "\n",
        "# Convert list to NumPy array\n",
        "array_list = np.array(object=list_)\n",
        "\n",
        "# Print data types of variables\n",
        "print(\"Data type of list_:\", type(list_))\n",
        "print(\"Data type of array_list:\", type(array_list))"
      ],
      "metadata": {
        "id": "uptEnizVFRa8"
      },
      "execution_count": null,
      "outputs": []
    },
    {
      "cell_type": "markdown",
      "source": [
        "Q2. Write a code to print the data type of each and every element of both the variables list_ and\n",
        "arra_list."
      ],
      "metadata": {
        "id": "R5iHQU6UFOOl"
      }
    },
    {
      "cell_type": "code",
      "source": [
        "print(\"Data type of each element in list_:\")\n",
        "for element in list_:\n",
        "    print(type(element))\n",
        "\n",
        "# Data type of each element in array_list\n",
        "print(\"\\nData type of each element in array_list:\")\n",
        "for element in array_list:\n",
        "    print(type(element))"
      ],
      "metadata": {
        "id": "Ppx7v39mFVII"
      },
      "execution_count": null,
      "outputs": []
    },
    {
      "cell_type": "markdown",
      "source": [
        "Q3. Considering the following changes in the variable, array_list:\n",
        "array_list = np.array(object = list_, dtype = int)\n",
        "Will there be any difference in the data type of the elements present in both the variables, list_ and\n",
        "arra_list? If so then print the data types of each and every element present in both the variables, list_\n",
        "and arra_list."
      ],
      "metadata": {
        "id": "3lTtCQWWFkaI"
      }
    },
    {
      "cell_type": "code",
      "source": [
        "import numpy as np\n",
        "\n",
        "# Original list\n",
        "list_ = ['1', '2', '3', '4', '5']\n",
        "\n",
        "# Convert list to NumPy array with dtype=int\n",
        "array_list = np.array(object=list_, dtype=int)\n",
        "\n",
        "# Data type of each element in list_\n",
        "print(\"Data type of each element in list_:\")\n",
        "for element in list_:\n",
        "    print(type(element))\n",
        "\n",
        "# Data type of each element in array_list\n",
        "print(\"\\nData type of each element in array_list:\")\n",
        "for element in array_list:\n",
        "    print(type(element))"
      ],
      "metadata": {
        "id": "bXUqUHMHFlXx"
      },
      "execution_count": null,
      "outputs": []
    },
    {
      "cell_type": "markdown",
      "source": [
        "Consider the below code to answer further questions:\n",
        "import numpy as np\n",
        "num_list = [ [ 1 , 2 , 3 ] , [ 4 , 5 , 6 ] ]\n",
        "num_array = np.array(object = num_list)"
      ],
      "metadata": {
        "id": "4fk4DB8QFqAc"
      }
    },
    {
      "cell_type": "markdown",
      "source": [
        "Q4. Write a code to find the following characteristics of variable, num_array:\n",
        "(i) shape\n",
        "(ii) size"
      ],
      "metadata": {
        "id": "QZLM4eZSF2ij"
      }
    },
    {
      "cell_type": "code",
      "source": [
        "import numpy as np\n",
        "\n",
        "# Given list\n",
        "num_list = [[1, 2, 3], [4, 5, 6]]\n",
        "\n",
        "# Convert list to NumPy array\n",
        "num_array = np.array(object=num_list)\n",
        "\n",
        "# (i) Shape of num_array\n",
        "print(\"Shape of num_array:\", num_array.shape)\n",
        "\n",
        "# (ii) Size of num_array\n",
        "print(\"Size of num_array:\", num_array.size)"
      ],
      "metadata": {
        "id": "-d1unK6JF5jh"
      },
      "execution_count": null,
      "outputs": []
    },
    {
      "cell_type": "markdown",
      "source": [
        "Q5. Write a code to create numpy array of 3*3 matrix containing zeros only, using a numpy array\n",
        "creation function.\n",
        "[Hint: The size of the array will be 9 and the shape will be (3,3).]"
      ],
      "metadata": {
        "id": "F-bOHsYwF9Ws"
      }
    },
    {
      "cell_type": "code",
      "source": [
        "import numpy as np\n",
        "\n",
        "# Create a 3x3 matrix of zeros\n",
        "zero_matrix = np.zeros((3, 3))\n",
        "print(\"3x3 matrix of zeros:\")\n",
        "print(zero_matrix)"
      ],
      "metadata": {
        "id": "cjpTb8U9F_8Z"
      },
      "execution_count": null,
      "outputs": []
    },
    {
      "cell_type": "markdown",
      "source": [
        "Q6. Create an identity matrix of shape (5,5) using numpy functions?\n",
        "[Hint: An identity matrix is a matrix containing 1 diagonally and other elements will be 0.]"
      ],
      "metadata": {
        "id": "AJa7ssz6GCxO"
      }
    },
    {
      "cell_type": "code",
      "source": [
        "import numpy as np\n",
        "\n",
        "# Create an identity matrix of shape (5, 5)\n",
        "identity_matrix = np.eye(5)\n",
        "print(\"Identity matrix of shape (5, 5):\")\n",
        "print(identity_matrix)"
      ],
      "metadata": {
        "id": "VntE0DBtGFim"
      },
      "execution_count": null,
      "outputs": []
    }
  ]
}